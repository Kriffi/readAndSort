{
 "cells": [
  {
   "cell_type": "code",
   "execution_count": 1,
   "metadata": {},
   "outputs": [
    {
     "name": "stdout",
     "output_type": "stream",
     "text": [
      "Прогноз на январь с количеством:\n",
      "             forecast  quantity\n",
      "nm_id                         \n",
      "-83054245    4653814      6837\n",
      " 44403861     187989      5701\n",
      " 95166060     311902      4262\n",
      " 126373749   3566554      6287\n",
      " 304773881   1531486      7133\n",
      " 440376223   1048666      5663\n",
      " 678167538   3911949      6561\n",
      " 811003631   1470229      3000\n",
      " 879714109    816379      7930\n",
      " 905559214   4496745      9034\n"
     ]
    }
   ],
   "source": [
    "import pandas as pd\n",
    "\n",
    "df = pd.read_csv(r\"C:\\Users\\epods\\Desktop\\python\\test.csv\")\n",
    "\n",
    "df['last_change_date'] = pd.to_datetime(df['last_change_date'], dayfirst=True, errors=\"coerce\")\n",
    "\n",
    "df['total_price'] = pd.to_numeric(df['total_price'], errors='coerce')\n",
    "\n",
    "df.dropna(subset=['total_price', 'nm_id'], inplace=True)\n",
    "\n",
    "df.set_index('last_change_date', inplace=True)\n",
    "\n",
    "january_data = df[df.index.month == 1].groupby(\"nm_id\")['total_price'].sum()\n",
    "\n",
    "growth_rate = january_data.pct_change().mean()  \n",
    "\n",
    "december_data = df[df.index.month == 12].groupby(\"nm_id\")['total_price'].sum()\n",
    "\n",
    "quantity_data = df.groupby('nm_id').size()  \n",
    "\n",
    "if not december_data.empty and pd.notna(growth_rate):\n",
    "    forecast = (december_data * (1 + growth_rate)).astype(int)\n",
    "\n",
    "    forecast_with_quantity = forecast.to_frame('forecast')\n",
    "    forecast_with_quantity['quantity'] = quantity_data\n",
    "    \n",
    "    print(\"Прогноз на январь с количеством:\\n\", forecast_with_quantity)\n",
    "else:\n",
    "    print(\"Недостаточно данных для прогноза.\")"
   ]
  },
  {
   "cell_type": "code",
   "execution_count": null,
   "metadata": {},
   "outputs": [],
   "source": []
  }
 ],
 "metadata": {
  "kernelspec": {
   "display_name": "Python 3",
   "language": "python",
   "name": "python3"
  },
  "language_info": {
   "codemirror_mode": {
    "name": "ipython",
    "version": 3
   },
   "file_extension": ".py",
   "mimetype": "text/x-python",
   "name": "python",
   "nbconvert_exporter": "python",
   "pygments_lexer": "ipython3",
   "version": "3.13.1"
  }
 },
 "nbformat": 4,
 "nbformat_minor": 2
}
